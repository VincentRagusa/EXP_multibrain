{
 "cells": [
  {
   "cell_type": "code",
   "execution_count": 4,
   "metadata": {},
   "outputs": [],
   "source": [
    "import numpy as np\n"
   ]
  },
  {
   "cell_type": "code",
   "execution_count": 75,
   "metadata": {},
   "outputs": [
    {
     "name": "stdout",
     "output_type": "stream",
     "text": [
      "[[8 1 6]\n",
      " [3 5 7]\n",
      " [4 9 2]]\n"
     ]
    }
   ],
   "source": [
    "A = np.matrix([[8,1,6],[3,5,7],[4,9,2]])\n",
    "N = A.shape[0]\n",
    "d = A.shape[1]\n",
    "print(A)"
   ]
  },
  {
   "cell_type": "code",
   "execution_count": 76,
   "metadata": {},
   "outputs": [
    {
     "name": "stdout",
     "output_type": "stream",
     "text": [
      "[[5. 5. 5.]\n",
      " [5. 5. 5.]\n",
      " [5. 5. 5.]]\n"
     ]
    }
   ],
   "source": [
    "A_ave = (1/N)*np.ones((N,N))*A\n",
    "print(A_ave)"
   ]
  },
  {
   "cell_type": "code",
   "execution_count": 77,
   "metadata": {},
   "outputs": [
    {
     "name": "stdout",
     "output_type": "stream",
     "text": [
      "[[ 3. -4.  1.]\n",
      " [-2.  0.  2.]\n",
      " [-1.  4. -3.]]\n"
     ]
    }
   ],
   "source": [
    "B = A - A_ave\n",
    "print(B)"
   ]
  },
  {
   "cell_type": "code",
   "execution_count": 78,
   "metadata": {},
   "outputs": [
    {
     "name": "stdout",
     "output_type": "stream",
     "text": [
      "[[ 7. -8.  1.]\n",
      " [-8. 16. -8.]\n",
      " [ 1. -8.  7.]]\n"
     ]
    }
   ],
   "source": [
    "# C = (1/(N-1)) * np.transpose(B) * B\n",
    "# C = (1/(N-1)) * np.transpose(A) * (np.identity(N)-(1/N)*np.ones((N,N))) * B\n",
    "C = (1/(N-1)) * np.transpose(A) * (np.identity(N)-(1/N)*np.ones((N,N))) * (np.identity(N)-(1/N)*np.ones((N,N))) * A\n",
    "print(C)"
   ]
  },
  {
   "cell_type": "code",
   "execution_count": 79,
   "metadata": {},
   "outputs": [
    {
     "name": "stdout",
     "output_type": "stream",
     "text": [
      "[[ 7. -8.  1.]\n",
      " [-8. 16. -8.]\n",
      " [ 1. -8.  7.]]\n"
     ]
    }
   ],
   "source": [
    "D = (1/(N-1)) * np.transpose(A) * (np.identity(N)-(1/N)*np.ones((N,N))) * A\n",
    "print(D)"
   ]
  },
  {
   "cell_type": "code",
   "execution_count": 80,
   "metadata": {},
   "outputs": [
    {
     "name": "stdout",
     "output_type": "stream",
     "text": [
      "[[ True  True  True]\n",
      " [ True  True  True]\n",
      " [ True  True  True]]\n"
     ]
    }
   ],
   "source": [
    "print(np.isclose(C,D))"
   ]
  },
  {
   "cell_type": "code",
   "execution_count": null,
   "metadata": {},
   "outputs": [],
   "source": []
  },
  {
   "cell_type": "code",
   "execution_count": 83,
   "metadata": {},
   "outputs": [],
   "source": [
    "def mean_center(X):\n",
    "    N = X.shape[0]\n",
    "    return X - (1/N)*np.ones((N,N))*X"
   ]
  },
  {
   "cell_type": "code",
   "execution_count": 86,
   "metadata": {},
   "outputs": [
    {
     "name": "stdout",
     "output_type": "stream",
     "text": [
      "[[ 3. -4.  1.]\n",
      " [-2.  0.  2.]\n",
      " [-1.  4. -3.]]\n"
     ]
    }
   ],
   "source": [
    "A_mc = mean_center(A)\n",
    "print(A_mc)"
   ]
  },
  {
   "cell_type": "code",
   "execution_count": 85,
   "metadata": {},
   "outputs": [
    {
     "ename": "SyntaxError",
     "evalue": "invalid syntax (<ipython-input-85-2eddd45211ce>, line 3)",
     "output_type": "error",
     "traceback": [
      "\u001b[0;36m  File \u001b[0;32m\"<ipython-input-85-2eddd45211ce>\"\u001b[0;36m, line \u001b[0;32m3\u001b[0m\n\u001b[0;31m    return np.divide(X, np.sqrt((1/(N-1))*))\u001b[0m\n\u001b[0m                                          ^\u001b[0m\n\u001b[0;31mSyntaxError\u001b[0m\u001b[0;31m:\u001b[0m invalid syntax\n"
     ]
    }
   ],
   "source": [
    "def STD_normalize(X):\n",
    "    N = X.shape[0]\n",
    "    return np.divide(X, np.sqrt((1/(N-1))*))"
   ]
  },
  {
   "cell_type": "code",
   "execution_count": 19,
   "metadata": {},
   "outputs": [
    {
     "name": "stdout",
     "output_type": "stream",
     "text": [
      "0.25\n"
     ]
    }
   ],
   "source": [
    "from scipy.special import comb as choose\n",
    "\n",
    "\n",
    "def check(P): # assert laws of probability\n",
    "    for p in P:\n",
    "        assert 0.0 <= p <= 1.0\n",
    "    if len(P) > 1:\n",
    "        assert sum(P) == 1.0\n",
    "\n",
    "        \n",
    "def binomial(p, x, N): \n",
    "    return choose(N,x)*(p**x)*((1-p)**(N-x))\n",
    "\n",
    "print(binomial(0.5, 2, 2))\n"
   ]
  },
  {
   "cell_type": "code",
   "execution_count": 48,
   "metadata": {
    "scrolled": false
   },
   "outputs": [
    {
     "data": {
      "image/png": "[encoded data removed]",
      "text/plain": [
       "<Figure size 432x360 with 2 Axes>"
      ]
     },
     "metadata": {},
     "output_type": "display_data"
    }
   ],
   "source": [
    "import math\n",
    "\n",
    "\n",
    "N = 100      # population size for simulation\n",
    "Gens = 100000 # number of generations the simulation runs for\n",
    "lg = 10       # length of genome\n",
    "\n",
    "pm = 0.005    # probability to mutate a site\n",
    "check([pm])\n",
    "\n",
    "\n",
    "pm_p1 = 0.5   # probability a mutation increases site value by 1\n",
    "pm_m1 = 0.5   # probability a mutation decreases site value by 1\n",
    "check([pm_p1, pm_m1])\n",
    "\n",
    "p_inc = pm*pm_p1 # probability that a mutation hits and it is positive\n",
    "check([p_inc])\n",
    "\n",
    "p_dec = pm*pm_m1\n",
    "check([p_dec])\n",
    "\n",
    "\n",
    "for x in range(lg):\n",
    "    check([binomial(p_inc,x,lg)])# probability for a genome to increase by x positive mutations\n",
    "\n",
    "for x in range(lg):\n",
    "    check([binomial(p_dec,x,lg)])# probability for a genome to decrease by x positive mutations\n",
    "\n",
    "def Fa(x):\n",
    "    return x\n",
    "\n",
    "def Fb(x):\n",
    "    return -0.1*x\n",
    "#     return 0\n",
    "\n",
    "def C(x, la, lb):\n",
    "    ca = 0\n",
    "    cb = 0\n",
    "    while x >= la+lb:\n",
    "        ca += 1\n",
    "        cb += 1\n",
    "        x -= la+lb\n",
    "    if x >= la:\n",
    "        ca += 1\n",
    "        x -= la\n",
    "    return ca, cb, x\n",
    "\n",
    "def F(x):\n",
    "    x /= lg # convert fitness function to units of mutational step sizes\n",
    "    x += 2 # add offset so that x=0 gives fitness at the top of the first peak f(0)=2\n",
    "    la = 2\n",
    "    lb = 1.5\n",
    "    ca, cb, d = C(x, la, lb)\n",
    "    if ca == cb:\n",
    "        return Fa(ca*la + d) + Fb(cb*lb)\n",
    "    else:\n",
    "        return Fa(ca*la) + Fb(cb*lb + d)\n",
    "    \n",
    "def p_i2j(i,j,p_m,p_up,lg,alpha):\n",
    "    d = j-i  \n",
    "    p = 0\n",
    "    for x in range(alpha):\n",
    "        if d == 0:\n",
    "            p += binomial(p_m, 2*x, lg)*binomial(p_up, x/2, 2*x)\n",
    "        elif d > 0:\n",
    "            p += binomial(p_m, abs(d)+2*x, lg)*binomial(p_up, abs(d)+x, abs(d)+2*x)\n",
    "        elif d < 0:\n",
    "            p += binomial(p_m, abs(d)+2*x, lg)*binomial(1-p_up, abs(d)+x, abs(d)+2*x)\n",
    "    return p\n",
    "\n",
    "# for i in range(40):\n",
    "#     print(F(i))\n",
    "\n",
    "\n",
    "# def p_sel(x):\n",
    "#     C = 1 # -------------------------------------------------- C\n",
    "#     Fx = F(x)\n",
    "#     MAX = max(F(0),Fx)\n",
    "#     if Fx >= MAX-C:\n",
    "#         return 1-np.power(1-(1/N)*((Fx-MAX+C)/C),N)\n",
    "#     else:\n",
    "#         return 0\n",
    "\n",
    "# def p_sel(x):\n",
    "#     Fx = F(x)\n",
    "#     MAX = max(F(0),Fx)\n",
    "#     MIN = min(F(0),Fx)-1e-15# min element of population gets remapped to 0, therefore we lower the min a bit\n",
    "#     if MAX==MIN:\n",
    "#         part = 1/N\n",
    "#     else:\n",
    "#         part = (1/N)*(Fx-MIN)/(MAX-MIN)\n",
    "#     return 1-np.power(1-part,N)\n",
    "\n",
    "def p_sel(x):\n",
    "    total = (N-1)*np.exp(F(0)) + np.exp(F(x))\n",
    "    part =  np.exp(F(x)) / total\n",
    "    return 1-np.power(1-part,N)\n",
    "    \n",
    "for i in range(40):\n",
    "#     print(i, p_sel(i))\n",
    "    check([p_sel(i)]) #probabilities to be selected given that the population is at x=0 and the agent is at x; based on max-c selection model\n",
    "    \n",
    "# generate markov model for evolution of 1 trait\n",
    "param = 40 #larger than 15 --------------------------------- param\n",
    "P = np.zeros((param,param))\n",
    "\n",
    "for i in range(param):\n",
    "    for j in range(param):\n",
    "#         P[i][j] = p_sel(i)*p_i2j(i,j,pm,pm_p1,lg,30)\n",
    "        if i != j:\n",
    "            P[i][j] = p_sel(i)*p_i2j(i,j,pm,pm_p1,lg,30)\n",
    "        else:\n",
    "            P[i][j] = 1-p_sel(i) + p_sel(i)*p_i2j(i,j,pm,pm_p1,lg,30) #im not sure about the first term in this sum\n",
    "# print(P)\n",
    "\n",
    "plt.figure(figsize=(6,5))\n",
    "ax = sns.heatmap(np.add(P,1e-35),norm=LogNorm(vmin=0, vmax=1))\n",
    "ax.set_ylim([param,0]) # fixes seaborn axes\n",
    "plt.show() "
   ]
  },
  {
   "cell_type": "code",
   "execution_count": 49,
   "metadata": {
    "scrolled": false
   },
   "outputs": [
    {
     "data": {
      "image/png": "[encoded data removed]",
      "text/plain": [
       "<Figure size 432x360 with 2 Axes>"
      ]
     },
     "metadata": {},
     "output_type": "display_data"
    },
    {
     "name": "stdout",
     "output_type": "stream",
     "text": [
      "DONE\n"
     ]
    },
    {
     "data": {
      "image/png": "[encoded data removed]",
      "text/plain": [
       "<Figure size 432x360 with 2 Axes>"
      ]
     },
     "metadata": {},
     "output_type": "display_data"
    },
    {
     "name": "stdout",
     "output_type": "stream",
     "text": [
      "P(0->15)  3.578569900657853e-25\n"
     ]
    }
   ],
   "source": [
    "import pathlib\n",
    "import csv\n",
    "\n",
    "import matplotlib.pyplot as plt\n",
    "import seaborn as sns; sns.set()\n",
    "import numpy as np\n",
    "from copy import deepcopy\n",
    "from matplotlib.colors import LogNorm\n",
    "depth = 25\n",
    "\n",
    "# generate steady-state probabilities\n",
    "plt.figure(figsize=(6,5))\n",
    "XX = deepcopy(P)\n",
    "for _ in range(depth):\n",
    "#     ax = sns.heatmap(np.add(XX,1e-35),norm=LogNorm(vmin=0, vmax=1))\n",
    "#     ax.set_ylim([param,0]) # fixes seaborn axes\n",
    "#     plt.show()\n",
    "    XX = np.dot(XX,XX)\n",
    "ax = sns.heatmap(np.add(XX,1e-35),norm=LogNorm(vmin=0, vmax=1))\n",
    "ax.set_ylim([param,0]) # fixes seaborn axes\n",
    "plt.show()    \n",
    "\n",
    "\n",
    "#generate probabilities for future passage\n",
    "def FirstPassageTime(P,n):\n",
    "    F = deepcopy(P)\n",
    "    FF = deepcopy(P)\n",
    "    for _ in range(n):\n",
    "        for i in range(len(P)):\n",
    "            for j in range(len(P)):\n",
    "                s = 0\n",
    "                for k in range(len(P)):\n",
    "                    if k != j:\n",
    "                        s += P[i][k]*F[k][j]\n",
    "                FF[i][j] = s\n",
    "        F = deepcopy(FF)\n",
    "    return F\n",
    "\n",
    "plt.figure(figsize=(6,5))\n",
    "XX = deepcopy(P)\n",
    "YY = np.zeros(XX.shape)\n",
    "\n",
    "for n in range(depth):\n",
    "    XX = FirstPassageTime(XX,n)\n",
    "    YY = np.add(XX,YY)\n",
    "#     ax = sns.heatmap(np.add(XX,1e-35),norm=LogNorm(vmin=0, vmax=1))\n",
    "#     ax.set_ylim([param,0]) # fixes seaborn axes\n",
    "#     print(\"n =\",n)\n",
    "#     plt.show()\n",
    "print(\"DONE\")\n",
    "ax = sns.heatmap(np.add(YY,1e-35),norm=LogNorm(vmin=0, vmax=1))\n",
    "ax.set_ylim([param,0]) # fixes seaborn axes\n",
    "plt.show()   \n",
    "print(\"P(0->15) \", YY[0][15])"
   ]
  },
  {
   "cell_type": "code",
   "execution_count": null,
   "metadata": {},
   "outputs": [],
   "source": []
  },
  {
   "cell_type": "code",
   "execution_count": null,
   "metadata": {},
   "outputs": [],
   "source": []
  }
 ],
 "metadata": {
  "kernelspec": {
   "display_name": "Python 3",
   "language": "python",
   "name": "python3"
  },
  "language_info": {
   "codemirror_mode": {
    "name": "ipython",
    "version": 3
   },
   "file_extension": ".py",
   "mimetype": "text/x-python",
   "name": "python",
   "nbconvert_exporter": "python",
   "pygments_lexer": "ipython3",
   "version": "3.7.5"
  }
 },
 "nbformat": 4,
 "nbformat_minor": 4
}
